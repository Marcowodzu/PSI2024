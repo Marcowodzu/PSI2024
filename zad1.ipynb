{
  "nbformat": 4,
  "nbformat_minor": 0,
  "metadata": {
    "colab": {
      "provenance": []
    },
    "kernelspec": {
      "name": "python3",
      "display_name": "Python 3"
    },
    "language_info": {
      "name": "python"
    }
  },
  "cells": [
    {
      "cell_type": "code",
      "execution_count": 2,
      "metadata": {
        "colab": {
          "base_uri": "https://localhost:8080/"
        },
        "id": "lucrdpbSg8bz",
        "outputId": "1da501f0-a97f-4e06-ee1c-d26d6407521d"
      },
      "outputs": [
        {
          "output_type": "stream",
          "name": "stdout",
          "text": [
            "hello world\n"
          ]
        }
      ],
      "source": [
        "print(\"hello world\")"
      ]
    },
    {
      "cell_type": "markdown",
      "source": [
        "[google](https://google.com)\n",
        "\n",
        "1.   Element listy\n",
        "2.   Element listy\n",
        "\n"
      ],
      "metadata": {
        "id": "Crt7Ql7KhjX6"
      }
    },
    {
      "cell_type": "code",
      "source": [],
      "metadata": {
        "id": "Kt4WJseehjjp"
      },
      "execution_count": null,
      "outputs": []
    },
    {
      "cell_type": "markdown",
      "source": [],
      "metadata": {
        "id": "finELewtho5P"
      }
    },
    {
      "cell_type": "code",
      "source": [],
      "metadata": {
        "id": "BapUNEnKhpCe"
      },
      "execution_count": null,
      "outputs": []
    },
    {
      "cell_type": "markdown",
      "source": [],
      "metadata": {
        "id": "9afulMWSjme2"
      }
    }
  ]
}